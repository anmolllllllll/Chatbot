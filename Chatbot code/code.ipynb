{
 "cells": [
  {
   "cell_type": "markdown",
   "metadata": {
    "id": "EP83ua8Z9Npg"
   },
   "source": [
    "                    **EDUBOT**                            \n",
    "(A chatbot which is built to aid Thapar students.) \n",
    "\n",
    "NAME: Sasmita Maharana         ROLL NUMBER: 102183024\n",
    "\n",
    "NAME: Anmolpreet Kaur          ROLL NUMBER: 102183003 "
   ]
  },
  {
   "cell_type": "code",
   "execution_count": 1,
   "metadata": {
    "colab": {
     "base_uri": "https://localhost:8080/"
    },
    "id": "ZLTWnavLtoMY",
    "outputId": "3f220a67-758e-4dbb-9c42-22e0b9c9e8a2"
   },
   "outputs": [
    {
     "name": "stdout",
     "output_type": "stream",
     "text": [
      "Requirement already satisfied: gTTs in c:\\users\\hp\\anaconda3\\lib\\site-packages (2.2.4)\n",
      "Requirement already satisfied: six in c:\\users\\hp\\anaconda3\\lib\\site-packages (from gTTs) (1.16.0)\n",
      "Requirement already satisfied: click in c:\\users\\hp\\anaconda3\\lib\\site-packages (from gTTs) (8.0.3)\n",
      "Requirement already satisfied: requests in c:\\users\\hp\\anaconda3\\lib\\site-packages (from gTTs) (2.26.0)\n",
      "Requirement already satisfied: colorama in c:\\users\\hp\\anaconda3\\lib\\site-packages (from click->gTTs) (0.4.4)\n",
      "Requirement already satisfied: certifi>=2017.4.17 in c:\\users\\hp\\anaconda3\\lib\\site-packages (from requests->gTTs) (2021.10.8)\n",
      "Requirement already satisfied: idna<4,>=2.5 in c:\\users\\hp\\anaconda3\\lib\\site-packages (from requests->gTTs) (3.2)\n",
      "Requirement already satisfied: charset-normalizer~=2.0.0 in c:\\users\\hp\\anaconda3\\lib\\site-packages (from requests->gTTs) (2.0.4)\n",
      "Requirement already satisfied: urllib3<1.27,>=1.21.1 in c:\\users\\hp\\anaconda3\\lib\\site-packages (from requests->gTTs) (1.26.7)\n",
      "Requirement already satisfied: English-to-Hindi in c:\\users\\hp\\anaconda3\\lib\\site-packages (0.0.1)\n",
      "Requirement already satisfied: requests in c:\\users\\hp\\anaconda3\\lib\\site-packages (from English-to-Hindi) (2.26.0)\n",
      "Requirement already satisfied: urllib3<1.27,>=1.21.1 in c:\\users\\hp\\anaconda3\\lib\\site-packages (from requests->English-to-Hindi) (1.26.7)\n",
      "Requirement already satisfied: idna<4,>=2.5 in c:\\users\\hp\\anaconda3\\lib\\site-packages (from requests->English-to-Hindi) (3.2)\n",
      "Requirement already satisfied: certifi>=2017.4.17 in c:\\users\\hp\\anaconda3\\lib\\site-packages (from requests->English-to-Hindi) (2021.10.8)\n",
      "Requirement already satisfied: charset-normalizer~=2.0.0 in c:\\users\\hp\\anaconda3\\lib\\site-packages (from requests->English-to-Hindi) (2.0.4)\n",
      "Requirement already satisfied: translate in c:\\users\\hp\\anaconda3\\lib\\site-packages (3.6.1)\n",
      "Requirement already satisfied: libretranslatepy==2.1.1 in c:\\users\\hp\\anaconda3\\lib\\site-packages (from translate) (2.1.1)\n",
      "Requirement already satisfied: requests in c:\\users\\hp\\anaconda3\\lib\\site-packages (from translate) (2.26.0)\n",
      "Requirement already satisfied: lxml in c:\\users\\hp\\anaconda3\\lib\\site-packages (from translate) (4.6.3)\n",
      "Requirement already satisfied: click in c:\\users\\hp\\anaconda3\\lib\\site-packages (from translate) (8.0.3)\n",
      "Requirement already satisfied: colorama in c:\\users\\hp\\anaconda3\\lib\\site-packages (from click->translate) (0.4.4)\n",
      "Requirement already satisfied: charset-normalizer~=2.0.0 in c:\\users\\hp\\anaconda3\\lib\\site-packages (from requests->translate) (2.0.4)\n",
      "Requirement already satisfied: certifi>=2017.4.17 in c:\\users\\hp\\anaconda3\\lib\\site-packages (from requests->translate) (2021.10.8)\n",
      "Requirement already satisfied: idna<4,>=2.5 in c:\\users\\hp\\anaconda3\\lib\\site-packages (from requests->translate) (3.2)\n",
      "Requirement already satisfied: urllib3<1.27,>=1.21.1 in c:\\users\\hp\\anaconda3\\lib\\site-packages (from requests->translate) (1.26.7)\n"
     ]
    }
   ],
   "source": [
    "!pip install gTTs\n",
    "!pip install English-to-Hindi\n",
    "!pip install translate"
   ]
  },
  {
   "cell_type": "code",
   "execution_count": 2,
   "metadata": {
    "id": "b1wgdh5g5bX9"
   },
   "outputs": [],
   "source": [
    "import nltk\n",
    "from nltk.corpus import stopwords\n",
    "###########################\n",
    "import numpy as np\n",
    "from gtts import gTTS\n",
    "import IPython\n",
    "from IPython.display import Audio\n",
    "from scipy.io import wavfile\n",
    "###########################\n",
    "\n",
    "import json\n",
    "import random\n",
    "from nltk.tag import pos_tag # for proper noun\n",
    "from nltk.tokenize import word_tokenize, sent_tokenize\n",
    "from nltk.stem import WordNetLemmatizer\n",
    "from nltk.stem import PorterStemmer\n"
   ]
  },
  {
   "cell_type": "code",
   "execution_count": 5,
   "metadata": {
    "id": "MXw9QKHX6OFK"
   },
   "outputs": [],
   "source": [
    "filename=\"intents.json\""
   ]
  },
  {
   "cell_type": "code",
   "execution_count": 6,
   "metadata": {
    "id": "xepRS9DD6bm7"
   },
   "outputs": [],
   "source": [
    "intents = json.loads(open(filename).read())"
   ]
  },
  {
   "cell_type": "code",
   "execution_count": 5,
   "metadata": {
    "colab": {
     "base_uri": "https://localhost:8080/"
    },
    "id": "GoO5-ZK16sGR",
    "outputId": "ef3899cb-5dd8-42b7-e31d-dadf943d8138"
   },
   "outputs": [
    {
     "name": "stdout",
     "output_type": "stream",
     "text": [
      "{'intents': [{'tag': 'greeting', 'patterns': ['Hi', 'How are you', 'Is anyone there?', 'Hello', 'Good day', 'Whats up', 'Hey', 'greetings'], 'responses': ['Hello!', 'Good to see you again!', 'Hi there, how can I help?'], 'context_set': ''}, {'tag': 'goodbye', 'patterns': ['cya', 'See you later', 'Goodbye', 'I am Leaving', 'Have a Good day', 'bye', 'cao', 'see ya'], 'responses': ['Sad to see you go :(', 'Talk to you later', 'Goodbye!'], 'context_set': ''}, {'tag': 'subjects', 'patterns': ['subjects', 'My Subjects', 'Computer Science Subjects', 'Which are my subjects', 'CS Subjects', 'COE subjects', 'Tell me subjects'], 'responses': ['Here you go AI DBMS DAA MSNT CN', 'List involves AI DBMS DAA MSNT CN', 'Following is the list AI DBMS DAA MSNT CN', 'Subjects in your current semester are AI DBMS DAA MSNT CN'], 'context_set': ''}, {'tag': 'AIteacher', 'patterns': ['Who teaches me AI', 'AI subject teacher', 'AI teacher', 'AI lab teacher'], 'responses': ['Here is the detail \\nName: Dr. Singara Singh \\nEmail:singara@thapar.edu,', 'Name:Dr. Singara Singh(Associate Professor) \\nEmail:swati.kumari@thapar.edu \\nCabin number:L437 '], 'context_set': ''}, {'tag': 'Bestteacher', 'patterns': ['Who the best teacher', 'best teacher', 'good teacher', 'best AI teacher in Thapar'], 'responses': ['I have to admit although every teacher in thapar teaches to the best of his/her efforts but Dr. Singara Singh is exceptionally incredible in her job', \"Though, every teacher is good in Thapar it wouldn't be wrong to say Dr. Singara Singh is the BEST\", 'On the top of the list is Dr. Singara Singh.'], 'context_set': ''}, {'tag': 'doaa', 'patterns': ['Who is the doaa', 'doaa', 'Dean of Academic Affairs', 'dean of thapar'], 'responses': ['Here is the detail \\nName: Dr. Maninder Singh \\nEmail:doaa@thapar.edu and msingh@thapar.edu', 'Name: Dr. Maninder Singh \\nEmail:doaa@thapar.edu and msingh@thapar.edu'], 'context_set': ''}, {'tag': 'madeby', 'patterns': ['Who made you', 'made by whom?', 'CREATED BY?', 'whose project are you?'], 'responses': ['Here is the detail \\nName: Sasmita Maharana  Roll no:102183024 \\nName: Anmolpreet Kaur  Roll no:102183003 \\nSubGroup:COE5', 'I am created by Sasmita Maharana(Roll no:102183024) and Anmolpreet Kaur(Roll no:102183003) of COE5'], 'context_set': ''}, {'tag': 'exams', 'patterns': ['when is my exam', 'exam dates', 'exam date', 'when are est starting?'], 'responses': ['Here are  the lastest details:\\n25May MSnT\\n27May DBMS\\n28May AI\\n1June CN\\n2June Manpro\\n4June DAA', 'The exams are scheduled as follows \\n25May MSnT\\n27May DBMS\\n28May AI\\n1June CN\\n2June Manpro\\n4June DAA'], 'context_set': ''}, {'tag': 'quespapers', 'patterns': ['pervious year question papers', 'last yeat papers', 'ques paper', \"from where can i get last year's ques paper?\"], 'responses': ['Here you go:\\n https://cl.thapar.edu/ques.php', 'ALL THE BEST FOR PREP \\n https://cl.thapar.edu/ques.php'], 'context_set': ''}, {'tag': 'societies', 'patterns': ['thapar society', 'about societies', 'detail about society', 'society event'], 'responses': ['You can check out about societies in Thapar:\\n https://myherupa.com/pages/societies.html \\n https://www.thapar.edu/students/pages/student-societies', 'This is all you need about the socities \\nhttps://myherupa.com/pages/societies.html \\n https://www.thapar.edu/students/pages/student-societies'], 'context_set': ''}, {'tag': 'help', 'patterns': ['how can you help me?', 'what can you do?', 'what all DO you know?', 'WHAT ALL CAN YOU TELL?'], 'responses': ['From societies to exam dates, teachers to subjects, I try to cover all aspects which matters to you the most.', 'I can tell you about subjects, teachers, exam dates,etc all at one place'], 'context_set': ''}, {'tag': 'Name', 'patterns': ['your name', 'what is your name?', 'what can i call you?', 'who are you?'], 'responses': ['I am EDUBOT. A chatbot which provides infomation regarding to Thapar related domains.', 'Hello! My name is EDUBOT.A chatbot which is built to aid Thapar students.'], 'context_set': ''}, {'tag': 'default', 'patterns': [], 'responses': [\"Sorry, I didn't understand\", 'Can you please rephrase'], 'context_set': ''}]}\n"
     ]
    }
   ],
   "source": [
    "print(intents)"
   ]
  },
  {
   "cell_type": "code",
   "execution_count": 7,
   "metadata": {
    "id": "pGC8nuYB61aN"
   },
   "outputs": [],
   "source": [
    "words=[]\n",
    "classes=[]\n",
    "documents=[]\n",
    "ignore_letters = ['!', '?', ',', '.',';',':']"
   ]
  },
  {
   "cell_type": "code",
   "execution_count": 8,
   "metadata": {
    "colab": {
     "base_uri": "https://localhost:8080/"
    },
    "id": "TyZj-mxmwZg5",
    "outputId": "c54e6b6b-6721-44ac-bb59-2d45639d685d"
   },
   "outputs": [
    {
     "name": "stderr",
     "output_type": "stream",
     "text": [
      "[nltk_data] Downloading package punkt to\n",
      "[nltk_data]     C:\\Users\\HP\\AppData\\Roaming\\nltk_data...\n",
      "[nltk_data]   Package punkt is already up-to-date!\n",
      "[nltk_data] Downloading package stopwords to\n",
      "[nltk_data]     C:\\Users\\HP\\AppData\\Roaming\\nltk_data...\n",
      "[nltk_data]   Package stopwords is already up-to-date!\n",
      "[nltk_data] Downloading package wordnet to\n",
      "[nltk_data]     C:\\Users\\HP\\AppData\\Roaming\\nltk_data...\n",
      "[nltk_data]   Package wordnet is already up-to-date!\n"
     ]
    },
    {
     "name": "stdout",
     "output_type": "stream",
     "text": [
      "[(['hi'], 'greeting'), (['how'], 'greeting'), (['is', 'anyone'], 'greeting'), (['hello'], 'greeting'), (['good', 'day'], 'greeting'), (['whats'], 'greeting'), (['hey'], 'greeting'), (['greeting'], 'greeting'), (['cya'], 'goodbye'), (['see', 'later'], 'goodbye'), (['goodbye'], 'goodbye'), (['i', 'leaving'], 'goodbye'), (['have', 'good', 'day'], 'goodbye'), (['bye'], 'goodbye'), (['cao'], 'goodbye'), (['see', 'ya'], 'goodbye'), (['subject'], 'subjects'), (['my', 'subject'], 'subjects'), (['computer', 'science', 'subject'], 'subjects'), (['which', 'subject'], 'subjects'), (['c', 'subject'], 'subjects'), (['coe', 'subject'], 'subjects'), (['tell', 'subject'], 'subjects'), (['subject'], 'subjects'), (['my', 'subject'], 'subjects'), (['computer', 'science', 'subject'], 'subjects'), (['which', 'subject'], 'subjects'), (['c', 'subject'], 'subjects'), (['coe', 'subject'], 'subjects'), (['tell', 'subject'], 'subjects'), (['who', 'teach', 'ai'], 'AIteacher'), (['ai', 'subject', 'teacher'], 'AIteacher'), (['ai', 'teacher'], 'AIteacher'), (['ai', 'lab', 'teacher'], 'AIteacher'), (['who', 'best', 'teacher'], 'Bestteacher'), (['best', 'teacher'], 'Bestteacher'), (['good', 'teacher'], 'Bestteacher'), (['best', 'ai', 'teacher', 'thapar'], 'Bestteacher'), (['who', 'doaa'], 'doaa'), (['doaa'], 'doaa'), (['dean', 'academic', 'affair'], 'doaa'), (['dean', 'thapar'], 'doaa'), (['who', 'made'], 'madeby'), (['made'], 'madeby'), (['created', 'by'], 'madeby'), (['whose', 'project'], 'madeby'), (['exam'], 'exams'), (['exam', 'date'], 'exams'), (['exam', 'date'], 'exams'), (['est', 'starting'], 'exams'), (['pervious', 'year', 'question', 'paper'], 'quespapers'), (['last', 'yeat', 'paper'], 'quespapers'), (['ques', 'paper'], 'quespapers'), (['get', 'last', 'year', \"'s\", 'ques', 'paper'], 'quespapers'), (['thapar', 'society'], 'societies'), (['society'], 'societies'), (['detail', 'society'], 'societies'), (['society', 'event'], 'societies'), (['help'], 'help'), ([], 'help'), (['do', 'know'], 'help'), (['what', 'all', 'can', 'you', 'tell'], 'help'), (['name'], 'Name'), (['name'], 'Name'), (['call'], 'Name'), ([], 'Name')]\n"
     ]
    }
   ],
   "source": [
    "nltk.download('punkt')\n",
    "nltk.download('stopwords')\n",
    "nltk.download('wordnet')\n",
    "lemmatizer = WordNetLemmatizer()\n",
    "stopWords = list(set(stopwords.words(\"english\")))\n",
    "for intent in intents['intents']:\n",
    "    for pattern in intent['patterns']:\n",
    "        word_list = nltk.word_tokenize(pattern)\n",
    "        word_list=[lemmatizer.lemmatize(word.lower()) for word in word_list if word not in stopWords and word not in ignore_letters ]\n",
    "        words.extend(word_list)\n",
    "        # print(word_list)\n",
    "        documents.append((word_list,intent['tag']))\n",
    "        if intent['tag'].lower() not in classes:\n",
    "            classes.append(intent['tag'].lower())\n",
    "print(documents)"
   ]
  },
  {
   "cell_type": "code",
   "execution_count": 9,
   "metadata": {
    "colab": {
     "base_uri": "https://localhost:8080/"
    },
    "id": "SFyui40M125h",
    "outputId": "77733b4e-952b-4ecd-8ee7-b4bdda7090fb"
   },
   "outputs": [
    {
     "name": "stdout",
     "output_type": "stream",
     "text": [
      "[(['hi'], 'greeting'), (['how'], 'greeting'), (['is', 'anyone'], 'greeting'), (['hello'], 'greeting'), (['good', 'day'], 'greeting'), (['whats'], 'greeting'), (['hey'], 'greeting'), (['greeting'], 'greeting'), (['cya'], 'goodbye'), (['see', 'later'], 'goodbye'), (['goodbye'], 'goodbye'), (['i', 'leaving'], 'goodbye'), (['have', 'good', 'day'], 'goodbye'), (['bye'], 'goodbye'), (['cao'], 'goodbye'), (['see', 'ya'], 'goodbye'), (['subject'], 'subjects'), (['my', 'subject'], 'subjects'), (['computer', 'science', 'subject'], 'subjects'), (['which', 'subject'], 'subjects'), (['c', 'subject'], 'subjects'), (['coe', 'subject'], 'subjects'), (['tell', 'subject'], 'subjects'), (['subject'], 'subjects'), (['my', 'subject'], 'subjects'), (['computer', 'science', 'subject'], 'subjects'), (['which', 'subject'], 'subjects'), (['c', 'subject'], 'subjects'), (['coe', 'subject'], 'subjects'), (['tell', 'subject'], 'subjects'), (['who', 'teach', 'ai'], 'AIteacher'), (['ai', 'subject', 'teacher'], 'AIteacher'), (['ai', 'teacher'], 'AIteacher'), (['ai', 'lab', 'teacher'], 'AIteacher'), (['who', 'best', 'teacher'], 'Bestteacher'), (['best', 'teacher'], 'Bestteacher'), (['good', 'teacher'], 'Bestteacher'), (['best', 'ai', 'teacher', 'thapar'], 'Bestteacher'), (['who', 'doaa'], 'doaa'), (['doaa'], 'doaa'), (['dean', 'academic', 'affair'], 'doaa'), (['dean', 'thapar'], 'doaa'), (['who', 'made'], 'madeby'), (['made'], 'madeby'), (['created', 'by'], 'madeby'), (['whose', 'project'], 'madeby'), (['exam'], 'exams'), (['exam', 'date'], 'exams'), (['exam', 'date'], 'exams'), (['est', 'starting'], 'exams'), (['pervious', 'year', 'question', 'paper'], 'quespapers'), (['last', 'yeat', 'paper'], 'quespapers'), (['ques', 'paper'], 'quespapers'), (['get', 'last', 'year', \"'s\", 'ques', 'paper'], 'quespapers'), (['thapar', 'society'], 'societies'), (['society'], 'societies'), (['detail', 'society'], 'societies'), (['society', 'event'], 'societies'), (['help'], 'help'), ([], 'help'), (['do', 'know'], 'help'), (['what', 'all', 'can', 'you', 'tell'], 'help'), (['name'], 'Name'), (['name'], 'Name'), (['call'], 'Name'), ([], 'Name')]\n"
     ]
    }
   ],
   "source": [
    "words = sorted(set(words))\n",
    "classes = sorted(set(classes))\n",
    "print(documents)"
   ]
  },
  {
   "cell_type": "code",
   "execution_count": 10,
   "metadata": {
    "colab": {
     "base_uri": "https://localhost:8080/"
    },
    "id": "d2N6QU5v0z21",
    "outputId": "1e8b1209-c7d1-482a-bbfb-0aed24e906b9"
   },
   "outputs": [
    {
     "name": "stdout",
     "output_type": "stream",
     "text": [
      "HEY I AM EDU BOT! \n",
      "HOW CAN I HELP YOU?\n"
     ]
    }
   ],
   "source": [
    "print(\"HEY I AM EDU BOT! \")\n",
    "print(\"HOW CAN I HELP YOU?\")\n",
    "into = \"HEY I AM EDU BOT! HOW CAN I HELP YOU?\"\n",
    "audio = gTTS(into)\n",
    "audio.save('2.wav')\n",
    "sound_file = '2.wav'"
   ]
  },
  {
   "cell_type": "code",
   "execution_count": 11,
   "metadata": {
    "colab": {
     "base_uri": "https://localhost:8080/",
     "height": 75
    },
    "id": "8W1-36WI9nFh",
    "outputId": "f317a852-ef14-4e34-958b-89725f82b434"
   },
   "outputs": [
    {
     "data": {
      "text/html": [
       "\n",
       "                <audio  controls=\"controls\" autoplay=\"autoplay\">\n",
       "                    <source src=\"data:audio/wav;base64,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\" type=\"audio/wav\" />\n",
       "                    Your browser does not support the audio element.\n",
       "                </audio>\n",
       "              "
      ],
      "text/plain": [
       "<IPython.lib.display.Audio object>"
      ]
     },
     "execution_count": 11,
     "metadata": {},
     "output_type": "execute_result"
    }
   ],
   "source": [
    "Audio('2.wav',rate=44100,autoplay = True)"
   ]
  },
  {
   "cell_type": "code",
   "execution_count": 22,
   "metadata": {
    "colab": {
     "base_uri": "https://localhost:8080/"
    },
    "id": "2Ha2pq7l9igS",
    "outputId": "f90bad9c-7f6d-4881-a968-651adcf1e215"
   },
   "outputs": [
    {
     "name": "stdout",
     "output_type": "stream",
     "text": [
      "hi\n",
      "['hi']\n"
     ]
    }
   ],
   "source": [
    "chat=input()\n",
    "chat=nltk.word_tokenize(chat)\n",
    "chat=[lemmatizer.lemmatize(word.lower()) for word in chat if word not in stopWords and word not in ignore_letters ]\n",
    "print(chat)"
   ]
  },
  {
   "cell_type": "code",
   "execution_count": 23,
   "metadata": {
    "colab": {
     "base_uri": "https://localhost:8080/"
    },
    "id": "EfL4Fgo3caNP",
    "outputId": "5a76487a-d548-4089-fa78-8142bd8eeb4e"
   },
   "outputs": [
    {
     "name": "stdout",
     "output_type": "stream",
     "text": [
      "{'aiteacher': 0, 'bestteacher': 0, 'doaa': 0, 'exams': 0, 'goodbye': 0, 'greeting': 0, 'help': 0, 'madeby': 0, 'name': 0, 'quespapers': 0, 'societies': 0, 'subjects': 0}\n"
     ]
    }
   ],
   "source": [
    "final_tag={}\n",
    "for tag in classes:\n",
    "  final_tag[tag]=0\n",
    "print(final_tag)"
   ]
  },
  {
   "cell_type": "code",
   "execution_count": 24,
   "metadata": {
    "colab": {
     "base_uri": "https://localhost:8080/"
    },
    "id": "12aGc7Kbc4D7",
    "outputId": "7e6a9eff-6f15-46a4-de27-07df27a4acb9"
   },
   "outputs": [
    {
     "name": "stdout",
     "output_type": "stream",
     "text": [
      "{'aiteacher': 0, 'bestteacher': 0, 'doaa': 0, 'exams': 0, 'goodbye': 0, 'greeting': 1, 'help': 0, 'madeby': 0, 'name': 0, 'quespapers': 0, 'societies': 0, 'subjects': 0}\n"
     ]
    }
   ],
   "source": [
    "for doc in documents:\n",
    "  for c in chat:\n",
    "    for que in doc[0]:\n",
    "      if c==que:\n",
    "        # print(doc[1])\n",
    "        final_tag[doc[1].lower()]+=1\n",
    "print(final_tag)\n",
    "    "
   ]
  },
  {
   "cell_type": "code",
   "execution_count": 25,
   "metadata": {
    "colab": {
     "base_uri": "https://localhost:8080/"
    },
    "id": "ld2uJ045e0Vv",
    "outputId": "7dbf56e5-ddd3-4325-b791-cb1a31e27c0d"
   },
   "outputs": [
    {
     "name": "stdout",
     "output_type": "stream",
     "text": [
      "greeting\n"
     ]
    }
   ],
   "source": [
    "select_tag=max(final_tag,key=final_tag.get)\n",
    "# print(max(final_tag,key=final_tag.get))\n",
    "if final_tag.get(select_tag) == None or final_tag.get(select_tag) == 0:\n",
    "  select_tag = 'default'\n",
    "# else:\n",
    "#   select_tag='default'\n",
    "print(select_tag)"
   ]
  },
  {
   "cell_type": "code",
   "execution_count": 26,
   "metadata": {
    "colab": {
     "base_uri": "https://localhost:8080/"
    },
    "id": "WzQeXIIdglIB",
    "outputId": "84d09480-04b4-4c60-c9d8-3cd491f8bbf7"
   },
   "outputs": [
    {
     "name": "stdout",
     "output_type": "stream",
     "text": [
      "Good to see you again!\n"
     ]
    }
   ],
   "source": [
    "ansList=[]\n",
    "for intent in intents['intents']:\n",
    "  if intent['tag'].lower()==select_tag:\n",
    "    for response in intent['responses']:\n",
    "      ansList.append(response)\n",
    "      # print(response)\n",
    "      result=random.choice(ansList)\n",
    "audio = gTTS(result)\n",
    "#translation = translator.translate(result)\n",
    "audio.save('1.wav')\n",
    "sound_file = '1.wav'\n",
    "# Audio(sound_file,rate=\"framerate\")\n",
    "# IPython.display.Audio('1.wav')\n",
    "# Audio('1.wav',rate=44100)\n",
    "print(result)"
   ]
  },
  {
   "cell_type": "code",
   "execution_count": 27,
   "metadata": {
    "colab": {
     "base_uri": "https://localhost:8080/",
     "height": 75
    },
    "id": "LDwuT3qTmzQi",
    "outputId": "f35e0044-2718-4eeb-ab63-62141a3a7f30"
   },
   "outputs": [
    {
     "data": {
      "text/html": [
       "\n",
       "                <audio  controls=\"controls\" autoplay=\"autoplay\">\n",
       "                    <source src=\"data:audio/wav;base64,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\" type=\"audio/wav\" />\n",
       "                    Your browser does not support the audio element.\n",
       "                </audio>\n",
       "              "
      ],
      "text/plain": [
       "<IPython.lib.display.Audio object>"
      ]
     },
     "execution_count": 27,
     "metadata": {},
     "output_type": "execute_result"
    }
   ],
   "source": [
    "Audio('1.wav',rate=44100,autoplay = True)"
   ]
  },
  {
   "cell_type": "code",
   "execution_count": 28,
   "metadata": {},
   "outputs": [
    {
     "name": "stdout",
     "output_type": "stream",
     "text": [
      "तो तुम्हें देखकर अच्छा, फिर से!\n"
     ]
    }
   ],
   "source": [
    "from translate import Translator\n",
    "translator= Translator(to_lang=\"Hindi\")\n",
    "translation = translator.translate(result)\n",
    "print (translation)"
   ]
  },
  {
   "cell_type": "code",
   "execution_count": null,
   "metadata": {},
   "outputs": [],
   "source": []
  }
 ],
 "metadata": {
  "colab": {
   "collapsed_sections": [],
   "name": "AI_Project.ipynb",
   "provenance": []
  },
  "kernelspec": {
   "display_name": "Python 3 (ipykernel)",
   "language": "python",
   "name": "python3"
  },
  "language_info": {
   "codemirror_mode": {
    "name": "ipython",
    "version": 3
   },
   "file_extension": ".py",
   "mimetype": "text/x-python",
   "name": "python",
   "nbconvert_exporter": "python",
   "pygments_lexer": "ipython3",
   "version": "3.9.7"
  }
 },
 "nbformat": 4,
 "nbformat_minor": 1
}
